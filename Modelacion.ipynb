{
 "cells": [
  {
   "cell_type": "code",
   "execution_count": 1,
   "id": "0678bec9",
   "metadata": {},
   "outputs": [],
   "source": [
    "import pandas as pd\n",
    "import numpy as np\n",
    "import matplotlib.pyplot as plt\n",
    "import seaborn as sns\n",
    "import mpl_toolkits\n",
    "%matplotlib inline"
   ]
  },
  {
   "cell_type": "code",
   "execution_count": 2,
   "id": "a6ec01df",
   "metadata": {},
   "outputs": [],
   "source": [
    "df = pd.read_excel(r\"C:\\Users\\fadg1\\OneDrive\\Escritorio\\Analytics\\PRUEBA TECNICA ANALSTAS DE DATOS\\Datos- Modelación/Housing.xlsx\", sheet_name='Data')"
   ]
  },
  {
   "cell_type": "code",
   "execution_count": 3,
   "id": "f478e6bd",
   "metadata": {},
   "outputs": [],
   "source": [
    "## ELIMINAR NULOS \n",
    "df = df.fillna(0) "
   ]
  },
  {
   "cell_type": "code",
   "execution_count": 4,
   "id": "d323d120",
   "metadata": {},
   "outputs": [
    {
     "name": "stdout",
     "output_type": "stream",
     "text": [
      "<class 'pandas.core.frame.DataFrame'>\n",
      "RangeIndex: 62080 entries, 0 to 62079\n",
      "Data columns (total 12 columns):\n",
      " #   Column    Non-Null Count  Dtype  \n",
      "---  ------    --------------  -----  \n",
      " 0   price     62080 non-null  float64\n",
      " 1   lotsize   62080 non-null  int64  \n",
      " 2   bedrooms  62080 non-null  int64  \n",
      " 3   bathrms   62080 non-null  int64  \n",
      " 4   stories   62080 non-null  int64  \n",
      " 5   driveway  62080 non-null  object \n",
      " 6   recroom   62080 non-null  object \n",
      " 7   fullbase  62080 non-null  object \n",
      " 8   gashw     62080 non-null  object \n",
      " 9   airco     62080 non-null  object \n",
      " 10  garagepl  62080 non-null  int64  \n",
      " 11  prefarea  62080 non-null  object \n",
      "dtypes: float64(1), int64(5), object(6)\n",
      "memory usage: 5.7+ MB\n"
     ]
    }
   ],
   "source": [
    "df.info()"
   ]
  },
  {
   "cell_type": "code",
   "execution_count": 5,
   "id": "64c2f07a",
   "metadata": {},
   "outputs": [
    {
     "data": {
      "text/html": [
       "<div>\n",
       "<style scoped>\n",
       "    .dataframe tbody tr th:only-of-type {\n",
       "        vertical-align: middle;\n",
       "    }\n",
       "\n",
       "    .dataframe tbody tr th {\n",
       "        vertical-align: top;\n",
       "    }\n",
       "\n",
       "    .dataframe thead th {\n",
       "        text-align: right;\n",
       "    }\n",
       "</style>\n",
       "<table border=\"1\" class=\"dataframe\">\n",
       "  <thead>\n",
       "    <tr style=\"text-align: right;\">\n",
       "      <th></th>\n",
       "      <th>price</th>\n",
       "      <th>lotsize</th>\n",
       "      <th>bedrooms</th>\n",
       "      <th>bathrms</th>\n",
       "      <th>stories</th>\n",
       "      <th>driveway</th>\n",
       "      <th>recroom</th>\n",
       "      <th>fullbase</th>\n",
       "      <th>gashw</th>\n",
       "      <th>airco</th>\n",
       "      <th>garagepl</th>\n",
       "      <th>prefarea</th>\n",
       "    </tr>\n",
       "  </thead>\n",
       "  <tbody>\n",
       "    <tr>\n",
       "      <th>0</th>\n",
       "      <td>28075.000000</td>\n",
       "      <td>1650</td>\n",
       "      <td>6</td>\n",
       "      <td>1</td>\n",
       "      <td>4</td>\n",
       "      <td>yes</td>\n",
       "      <td>no</td>\n",
       "      <td>yes</td>\n",
       "      <td>no</td>\n",
       "      <td>no</td>\n",
       "      <td>3</td>\n",
       "      <td>no</td>\n",
       "    </tr>\n",
       "    <tr>\n",
       "      <th>1</th>\n",
       "      <td>28085.000000</td>\n",
       "      <td>1650</td>\n",
       "      <td>6</td>\n",
       "      <td>1</td>\n",
       "      <td>4</td>\n",
       "      <td>yes</td>\n",
       "      <td>no</td>\n",
       "      <td>no</td>\n",
       "      <td>no</td>\n",
       "      <td>no</td>\n",
       "      <td>3</td>\n",
       "      <td>no</td>\n",
       "    </tr>\n",
       "    <tr>\n",
       "      <th>2</th>\n",
       "      <td>28086.250000</td>\n",
       "      <td>1650</td>\n",
       "      <td>6</td>\n",
       "      <td>1</td>\n",
       "      <td>4</td>\n",
       "      <td>yes</td>\n",
       "      <td>no</td>\n",
       "      <td>no</td>\n",
       "      <td>no</td>\n",
       "      <td>no</td>\n",
       "      <td>3</td>\n",
       "      <td>no</td>\n",
       "    </tr>\n",
       "    <tr>\n",
       "      <th>3</th>\n",
       "      <td>28093.333333</td>\n",
       "      <td>1650</td>\n",
       "      <td>6</td>\n",
       "      <td>1</td>\n",
       "      <td>4</td>\n",
       "      <td>yes</td>\n",
       "      <td>yes</td>\n",
       "      <td>no</td>\n",
       "      <td>no</td>\n",
       "      <td>no</td>\n",
       "      <td>3</td>\n",
       "      <td>no</td>\n",
       "    </tr>\n",
       "    <tr>\n",
       "      <th>4</th>\n",
       "      <td>28098.958333</td>\n",
       "      <td>1650</td>\n",
       "      <td>6</td>\n",
       "      <td>1</td>\n",
       "      <td>4</td>\n",
       "      <td>yes</td>\n",
       "      <td>no</td>\n",
       "      <td>no</td>\n",
       "      <td>no</td>\n",
       "      <td>no</td>\n",
       "      <td>3</td>\n",
       "      <td>no</td>\n",
       "    </tr>\n",
       "  </tbody>\n",
       "</table>\n",
       "</div>"
      ],
      "text/plain": [
       "          price  lotsize  bedrooms  bathrms  stories driveway recroom  \\\n",
       "0  28075.000000     1650         6        1        4      yes      no   \n",
       "1  28085.000000     1650         6        1        4      yes      no   \n",
       "2  28086.250000     1650         6        1        4      yes      no   \n",
       "3  28093.333333     1650         6        1        4      yes     yes   \n",
       "4  28098.958333     1650         6        1        4      yes      no   \n",
       "\n",
       "  fullbase gashw airco  garagepl prefarea  \n",
       "0      yes    no    no         3       no  \n",
       "1       no    no    no         3       no  \n",
       "2       no    no    no         3       no  \n",
       "3       no    no    no         3       no  \n",
       "4       no    no    no         3       no  "
      ]
     },
     "execution_count": 5,
     "metadata": {},
     "output_type": "execute_result"
    }
   ],
   "source": [
    "df.head()"
   ]
  },
  {
   "cell_type": "code",
   "execution_count": 6,
   "id": "91dfe487",
   "metadata": {},
   "outputs": [
    {
     "data": {
      "text/html": [
       "<div>\n",
       "<style scoped>\n",
       "    .dataframe tbody tr th:only-of-type {\n",
       "        vertical-align: middle;\n",
       "    }\n",
       "\n",
       "    .dataframe tbody tr th {\n",
       "        vertical-align: top;\n",
       "    }\n",
       "\n",
       "    .dataframe thead th {\n",
       "        text-align: right;\n",
       "    }\n",
       "</style>\n",
       "<table border=\"1\" class=\"dataframe\">\n",
       "  <thead>\n",
       "    <tr style=\"text-align: right;\">\n",
       "      <th></th>\n",
       "      <th>price</th>\n",
       "      <th>lotsize</th>\n",
       "      <th>bedrooms</th>\n",
       "      <th>bathrms</th>\n",
       "      <th>stories</th>\n",
       "      <th>driveway</th>\n",
       "      <th>recroom</th>\n",
       "      <th>fullbase</th>\n",
       "      <th>gashw</th>\n",
       "      <th>airco</th>\n",
       "      <th>garagepl</th>\n",
       "      <th>prefarea</th>\n",
       "    </tr>\n",
       "  </thead>\n",
       "  <tbody>\n",
       "    <tr>\n",
       "      <th>0</th>\n",
       "      <td>28075.000000</td>\n",
       "      <td>1650</td>\n",
       "      <td>6</td>\n",
       "      <td>1</td>\n",
       "      <td>4</td>\n",
       "      <td>1</td>\n",
       "      <td>0</td>\n",
       "      <td>1</td>\n",
       "      <td>0</td>\n",
       "      <td>0</td>\n",
       "      <td>3</td>\n",
       "      <td>0</td>\n",
       "    </tr>\n",
       "    <tr>\n",
       "      <th>1</th>\n",
       "      <td>28085.000000</td>\n",
       "      <td>1650</td>\n",
       "      <td>6</td>\n",
       "      <td>1</td>\n",
       "      <td>4</td>\n",
       "      <td>1</td>\n",
       "      <td>0</td>\n",
       "      <td>0</td>\n",
       "      <td>0</td>\n",
       "      <td>0</td>\n",
       "      <td>3</td>\n",
       "      <td>0</td>\n",
       "    </tr>\n",
       "    <tr>\n",
       "      <th>2</th>\n",
       "      <td>28086.250000</td>\n",
       "      <td>1650</td>\n",
       "      <td>6</td>\n",
       "      <td>1</td>\n",
       "      <td>4</td>\n",
       "      <td>1</td>\n",
       "      <td>0</td>\n",
       "      <td>0</td>\n",
       "      <td>0</td>\n",
       "      <td>0</td>\n",
       "      <td>3</td>\n",
       "      <td>0</td>\n",
       "    </tr>\n",
       "    <tr>\n",
       "      <th>3</th>\n",
       "      <td>28093.333333</td>\n",
       "      <td>1650</td>\n",
       "      <td>6</td>\n",
       "      <td>1</td>\n",
       "      <td>4</td>\n",
       "      <td>1</td>\n",
       "      <td>1</td>\n",
       "      <td>0</td>\n",
       "      <td>0</td>\n",
       "      <td>0</td>\n",
       "      <td>3</td>\n",
       "      <td>0</td>\n",
       "    </tr>\n",
       "    <tr>\n",
       "      <th>4</th>\n",
       "      <td>28098.958333</td>\n",
       "      <td>1650</td>\n",
       "      <td>6</td>\n",
       "      <td>1</td>\n",
       "      <td>4</td>\n",
       "      <td>1</td>\n",
       "      <td>0</td>\n",
       "      <td>0</td>\n",
       "      <td>0</td>\n",
       "      <td>0</td>\n",
       "      <td>3</td>\n",
       "      <td>0</td>\n",
       "    </tr>\n",
       "  </tbody>\n",
       "</table>\n",
       "</div>"
      ],
      "text/plain": [
       "          price  lotsize  bedrooms  bathrms  stories  driveway  recroom  \\\n",
       "0  28075.000000     1650         6        1        4         1        0   \n",
       "1  28085.000000     1650         6        1        4         1        0   \n",
       "2  28086.250000     1650         6        1        4         1        0   \n",
       "3  28093.333333     1650         6        1        4         1        1   \n",
       "4  28098.958333     1650         6        1        4         1        0   \n",
       "\n",
       "   fullbase  gashw  airco  garagepl  prefarea  \n",
       "0         1      0      0         3         0  \n",
       "1         0      0      0         3         0  \n",
       "2         0      0      0         3         0  \n",
       "3         0      0      0         3         0  \n",
       "4         0      0      0         3         0  "
      ]
     },
     "execution_count": 6,
     "metadata": {},
     "output_type": "execute_result"
    }
   ],
   "source": [
    "## CAMBIAR OBJECT INT 0 Y 1\n",
    "gen_ = {\"yes\" :1, \"no\" :0}\n",
    "df[\"driveway\"] = df[\"driveway\"].map(gen_)\n",
    "df[\"recroom\"] = df[\"recroom\"].map(gen_)\n",
    "df[\"fullbase\"] = df[\"fullbase\"].map(gen_)\n",
    "df[\"gashw\"] = df[\"gashw\"].map(gen_)\n",
    "df[\"airco\"] = df[\"airco\"].map(gen_)\n",
    "df[\"prefarea\"] = df[\"prefarea\"].map(gen_)\n",
    "df.head()"
   ]
  },
  {
   "cell_type": "code",
   "execution_count": 7,
   "id": "914a5e49",
   "metadata": {},
   "outputs": [
    {
     "data": {
      "text/html": [
       "<div>\n",
       "<style scoped>\n",
       "    .dataframe tbody tr th:only-of-type {\n",
       "        vertical-align: middle;\n",
       "    }\n",
       "\n",
       "    .dataframe tbody tr th {\n",
       "        vertical-align: top;\n",
       "    }\n",
       "\n",
       "    .dataframe thead th {\n",
       "        text-align: right;\n",
       "    }\n",
       "</style>\n",
       "<table border=\"1\" class=\"dataframe\">\n",
       "  <thead>\n",
       "    <tr style=\"text-align: right;\">\n",
       "      <th></th>\n",
       "      <th>price</th>\n",
       "      <th>lotsize</th>\n",
       "      <th>bedrooms</th>\n",
       "      <th>bathrms</th>\n",
       "      <th>stories</th>\n",
       "      <th>driveway</th>\n",
       "      <th>recroom</th>\n",
       "      <th>fullbase</th>\n",
       "      <th>gashw</th>\n",
       "      <th>airco</th>\n",
       "      <th>garagepl</th>\n",
       "      <th>prefarea</th>\n",
       "    </tr>\n",
       "  </thead>\n",
       "  <tbody>\n",
       "    <tr>\n",
       "      <th>count</th>\n",
       "      <td>62080.000000</td>\n",
       "      <td>62080.000000</td>\n",
       "      <td>62080.000000</td>\n",
       "      <td>62080.000000</td>\n",
       "      <td>62080.000000</td>\n",
       "      <td>62080.000000</td>\n",
       "      <td>62080.000000</td>\n",
       "      <td>62080.000000</td>\n",
       "      <td>62080.000000</td>\n",
       "      <td>62080.000000</td>\n",
       "      <td>62080.000000</td>\n",
       "      <td>62080.000000</td>\n",
       "    </tr>\n",
       "    <tr>\n",
       "      <th>mean</th>\n",
       "      <td>101971.760049</td>\n",
       "      <td>4987.773196</td>\n",
       "      <td>2.952577</td>\n",
       "      <td>1.270103</td>\n",
       "      <td>1.731959</td>\n",
       "      <td>0.841237</td>\n",
       "      <td>0.173196</td>\n",
       "      <td>0.375258</td>\n",
       "      <td>0.047423</td>\n",
       "      <td>0.290722</td>\n",
       "      <td>0.682474</td>\n",
       "      <td>0.261856</td>\n",
       "    </tr>\n",
       "    <tr>\n",
       "      <th>std</th>\n",
       "      <td>45122.986996</td>\n",
       "      <td>2159.150090</td>\n",
       "      <td>0.748763</td>\n",
       "      <td>0.500759</td>\n",
       "      <td>0.772143</td>\n",
       "      <td>0.365458</td>\n",
       "      <td>0.378420</td>\n",
       "      <td>0.484193</td>\n",
       "      <td>0.212543</td>\n",
       "      <td>0.454099</td>\n",
       "      <td>0.860480</td>\n",
       "      <td>0.439648</td>\n",
       "    </tr>\n",
       "    <tr>\n",
       "      <th>min</th>\n",
       "      <td>28075.000000</td>\n",
       "      <td>1650.000000</td>\n",
       "      <td>1.000000</td>\n",
       "      <td>1.000000</td>\n",
       "      <td>1.000000</td>\n",
       "      <td>0.000000</td>\n",
       "      <td>0.000000</td>\n",
       "      <td>0.000000</td>\n",
       "      <td>0.000000</td>\n",
       "      <td>0.000000</td>\n",
       "      <td>0.000000</td>\n",
       "      <td>0.000000</td>\n",
       "    </tr>\n",
       "    <tr>\n",
       "      <th>25%</th>\n",
       "      <td>70400.802083</td>\n",
       "      <td>3500.000000</td>\n",
       "      <td>2.000000</td>\n",
       "      <td>1.000000</td>\n",
       "      <td>1.000000</td>\n",
       "      <td>1.000000</td>\n",
       "      <td>0.000000</td>\n",
       "      <td>0.000000</td>\n",
       "      <td>0.000000</td>\n",
       "      <td>0.000000</td>\n",
       "      <td>0.000000</td>\n",
       "      <td>0.000000</td>\n",
       "    </tr>\n",
       "    <tr>\n",
       "      <th>50%</th>\n",
       "      <td>92280.495833</td>\n",
       "      <td>4350.000000</td>\n",
       "      <td>3.000000</td>\n",
       "      <td>1.000000</td>\n",
       "      <td>2.000000</td>\n",
       "      <td>1.000000</td>\n",
       "      <td>0.000000</td>\n",
       "      <td>0.000000</td>\n",
       "      <td>0.000000</td>\n",
       "      <td>0.000000</td>\n",
       "      <td>0.000000</td>\n",
       "      <td>0.000000</td>\n",
       "    </tr>\n",
       "    <tr>\n",
       "      <th>75%</th>\n",
       "      <td>121496.126042</td>\n",
       "      <td>6350.000000</td>\n",
       "      <td>3.000000</td>\n",
       "      <td>1.000000</td>\n",
       "      <td>2.000000</td>\n",
       "      <td>1.000000</td>\n",
       "      <td>0.000000</td>\n",
       "      <td>1.000000</td>\n",
       "      <td>0.000000</td>\n",
       "      <td>1.000000</td>\n",
       "      <td>1.000000</td>\n",
       "      <td>1.000000</td>\n",
       "    </tr>\n",
       "    <tr>\n",
       "      <th>max</th>\n",
       "      <td>301233.333333</td>\n",
       "      <td>16200.000000</td>\n",
       "      <td>6.000000</td>\n",
       "      <td>4.000000</td>\n",
       "      <td>4.000000</td>\n",
       "      <td>1.000000</td>\n",
       "      <td>1.000000</td>\n",
       "      <td>1.000000</td>\n",
       "      <td>1.000000</td>\n",
       "      <td>1.000000</td>\n",
       "      <td>3.000000</td>\n",
       "      <td>1.000000</td>\n",
       "    </tr>\n",
       "  </tbody>\n",
       "</table>\n",
       "</div>"
      ],
      "text/plain": [
       "               price       lotsize      bedrooms       bathrms       stories  \\\n",
       "count   62080.000000  62080.000000  62080.000000  62080.000000  62080.000000   \n",
       "mean   101971.760049   4987.773196      2.952577      1.270103      1.731959   \n",
       "std     45122.986996   2159.150090      0.748763      0.500759      0.772143   \n",
       "min     28075.000000   1650.000000      1.000000      1.000000      1.000000   \n",
       "25%     70400.802083   3500.000000      2.000000      1.000000      1.000000   \n",
       "50%     92280.495833   4350.000000      3.000000      1.000000      2.000000   \n",
       "75%    121496.126042   6350.000000      3.000000      1.000000      2.000000   \n",
       "max    301233.333333  16200.000000      6.000000      4.000000      4.000000   \n",
       "\n",
       "           driveway       recroom      fullbase         gashw         airco  \\\n",
       "count  62080.000000  62080.000000  62080.000000  62080.000000  62080.000000   \n",
       "mean       0.841237      0.173196      0.375258      0.047423      0.290722   \n",
       "std        0.365458      0.378420      0.484193      0.212543      0.454099   \n",
       "min        0.000000      0.000000      0.000000      0.000000      0.000000   \n",
       "25%        1.000000      0.000000      0.000000      0.000000      0.000000   \n",
       "50%        1.000000      0.000000      0.000000      0.000000      0.000000   \n",
       "75%        1.000000      0.000000      1.000000      0.000000      1.000000   \n",
       "max        1.000000      1.000000      1.000000      1.000000      1.000000   \n",
       "\n",
       "           garagepl      prefarea  \n",
       "count  62080.000000  62080.000000  \n",
       "mean       0.682474      0.261856  \n",
       "std        0.860480      0.439648  \n",
       "min        0.000000      0.000000  \n",
       "25%        0.000000      0.000000  \n",
       "50%        0.000000      0.000000  \n",
       "75%        1.000000      1.000000  \n",
       "max        3.000000      1.000000  "
      ]
     },
     "execution_count": 7,
     "metadata": {},
     "output_type": "execute_result"
    }
   ],
   "source": [
    "df.describe()"
   ]
  },
  {
   "cell_type": "code",
   "execution_count": 8,
   "id": "e51c15ae",
   "metadata": {},
   "outputs": [
    {
     "data": {
      "text/plain": [
       "<function seaborn.utils.despine(fig=None, ax=None, top=True, right=True, left=False, bottom=False, offset=None, trim=False)>"
      ]
     },
     "execution_count": 8,
     "metadata": {},
     "output_type": "execute_result"
    },
    {
     "data": {
      "image/png": "[encoded data removed]",
      "text/plain": [
       "<Figure size 432x288 with 1 Axes>"
      ]
     },
     "metadata": {
      "needs_background": "light"
     },
     "output_type": "display_data"
    }
   ],
   "source": [
    "## CASAS MAS COMUN SEGUN A DORMITORIO BEDROOMS\n",
    "df[\"bedrooms\"].value_counts().plot(kind=\"bar\")\n",
    "plt.title(\"NUMERO DE HABITACIONES\", fontsize =15)\n",
    "plt.xlabel(\"Habitaciones\", fontsize =15 )\n",
    "plt.ylabel(\"Cantidad\", fontsize =15 )\n",
    "plt.xticks(fontsize =15 )\n",
    "plt.yticks(fontsize =15 )\n",
    "sns.despine"
   ]
  },
  {
   "cell_type": "code",
   "execution_count": 9,
   "id": "45217c91",
   "metadata": {},
   "outputs": [
    {
     "data": {
      "text/plain": [
       "<function seaborn.utils.despine(fig=None, ax=None, top=True, right=True, left=False, bottom=False, offset=None, trim=False)>"
      ]
     },
     "execution_count": 9,
     "metadata": {},
     "output_type": "execute_result"
    },
    {
     "data": {
      "image/png": "[encoded data removed]",
      "text/plain": [
       "<Figure size 432x288 with 1 Axes>"
      ]
     },
     "metadata": {
      "needs_background": "light"
     },
     "output_type": "display_data"
    }
   ],
   "source": [
    "## CASAS MAS COMUN SEGUN A BAÑOS bathrms\n",
    "df[\"bathrms\"].value_counts().plot(kind=\"bar\")\n",
    "plt.title(\"NUMERO DE BAÑOS\", fontsize =15)\n",
    "plt.xlabel(\"Baños\", fontsize =15 )\n",
    "plt.ylabel(\"Cantidad\", fontsize =15 )\n",
    "plt.xticks(fontsize =15 )\n",
    "plt.yticks(fontsize =15 )\n",
    "sns.despine"
   ]
  },
  {
   "cell_type": "code",
   "execution_count": 10,
   "id": "ee79e677",
   "metadata": {},
   "outputs": [
    {
     "data": {
      "text/plain": [
       "<function seaborn.utils.despine(fig=None, ax=None, top=True, right=True, left=False, bottom=False, offset=None, trim=False)>"
      ]
     },
     "execution_count": 10,
     "metadata": {},
     "output_type": "execute_result"
    },
    {
     "data": {
      "image/png": "[encoded data removed]",
      "text/plain": [
       "<Figure size 432x288 with 1 Axes>"
      ]
     },
     "metadata": {
      "needs_background": "light"
     },
     "output_type": "display_data"
    }
   ],
   "source": [
    "## PRECIO SEGÚN TAMAÑO DEL LOTE\n",
    "plt.scatter(df.price,df.lotsize)\n",
    "plt.title(\"PRECIO VS TAMAÑO DEL LOTE\", fontsize =15)\n",
    "plt.xlabel(\"Precio\", fontsize =15 )\n",
    "plt.ylabel(\"Tamño lote\", fontsize =15 )\n",
    "plt.xticks(fontsize =10 )\n",
    "plt.yticks(fontsize =10 )\n",
    "sns.despine"
   ]
  },
  {
   "cell_type": "code",
   "execution_count": 11,
   "id": "c4a983a6",
   "metadata": {},
   "outputs": [
    {
     "data": {
      "text/plain": [
       "<function seaborn.utils.despine(fig=None, ax=None, top=True, right=True, left=False, bottom=False, offset=None, trim=False)>"
      ]
     },
     "execution_count": 11,
     "metadata": {},
     "output_type": "execute_result"
    },
    {
     "data": {
      "image/png": "[encoded data removed]",
      "text/plain": [
       "<Figure size 432x288 with 1 Axes>"
      ]
     },
     "metadata": {
      "needs_background": "light"
     },
     "output_type": "display_data"
    }
   ],
   "source": [
    "## PRECIO SEGÚN HABITACIONES\n",
    "plt.scatter(df.bedrooms,df.price)\n",
    "plt.title(\"PRECIO VS HABITACIONES\", fontsize =15)\n",
    "plt.xlabel(\"Habitaciones\", fontsize =15 )\n",
    "plt.ylabel(\"Precio\", fontsize =15 )\n",
    "plt.xticks(fontsize =10 )\n",
    "plt.yticks(fontsize =10 )\n",
    "sns.despine"
   ]
  },
  {
   "cell_type": "code",
   "execution_count": 12,
   "id": "db6530c8",
   "metadata": {},
   "outputs": [
    {
     "data": {
      "text/plain": [
       "<function seaborn.utils.despine(fig=None, ax=None, top=True, right=True, left=False, bottom=False, offset=None, trim=False)>"
      ]
     },
     "execution_count": 12,
     "metadata": {},
     "output_type": "execute_result"
    },
    {
     "data": {
      "image/png": "[encoded data removed]",
      "text/plain": [
       "<Figure size 432x288 with 1 Axes>"
      ]
     },
     "metadata": {
      "needs_background": "light"
     },
     "output_type": "display_data"
    }
   ],
   "source": [
    "## PRECIO SEGÚN HABITACIONES\n",
    "plt.scatter(df.bathrms, df.price)\n",
    "plt.title(\"PRECIO VS BAÑOS\", fontsize =15)\n",
    "plt.xlabel(\"Baños\", fontsize =15 )\n",
    "plt.ylabel(\"Precio\", fontsize =15 )\n",
    "plt.xticks(fontsize =10 )\n",
    "plt.yticks(fontsize =10 )\n",
    "sns.despine"
   ]
  },
  {
   "cell_type": "code",
   "execution_count": 13,
   "id": "2b70e303",
   "metadata": {},
   "outputs": [
    {
     "data": {
      "text/plain": [
       "<function seaborn.utils.despine(fig=None, ax=None, top=True, right=True, left=False, bottom=False, offset=None, trim=False)>"
      ]
     },
     "execution_count": 13,
     "metadata": {},
     "output_type": "execute_result"
    },
    {
     "data": {
      "image/png": "[encoded data removed]",
      "text/plain": [
       "<Figure size 432x288 with 1 Axes>"
      ]
     },
     "metadata": {
      "needs_background": "light"
     },
     "output_type": "display_data"
    }
   ],
   "source": [
    "## PRECIO SEGÚN PISOS\n",
    "plt.scatter(df.stories, df.price)\n",
    "plt.title(\"PRECIO VS PISOS\", fontsize =15)\n",
    "plt.xlabel(\"Pisos\", fontsize =15 )\n",
    "plt.ylabel(\"Precio\", fontsize =15 )\n",
    "plt.xticks(fontsize =10 )\n",
    "plt.yticks(fontsize =10 )\n",
    "sns.despine"
   ]
  },
  {
   "cell_type": "code",
   "execution_count": 14,
   "id": "75f2bb9e",
   "metadata": {},
   "outputs": [
    {
     "data": {
      "text/plain": [
       "<function seaborn.utils.despine(fig=None, ax=None, top=True, right=True, left=False, bottom=False, offset=None, trim=False)>"
      ]
     },
     "execution_count": 14,
     "metadata": {},
     "output_type": "execute_result"
    },
    {
     "data": {
      "image/png": "[encoded data removed]",
      "text/plain": [
       "<Figure size 432x288 with 1 Axes>"
      ]
     },
     "metadata": {
      "needs_background": "light"
     },
     "output_type": "display_data"
    }
   ],
   "source": [
    "## PRECIO SEGÚN GARAJE\n",
    "plt.scatter(df.garagepl, df.price)\n",
    "plt.title(\"PRECIO VS GARAJE\", fontsize =15)\n",
    "plt.xlabel(\"Garaje\", fontsize =15 )\n",
    "plt.ylabel(\"Precio\", fontsize =15 )\n",
    "plt.xticks(fontsize =10 )\n",
    "plt.yticks(fontsize =10 )\n",
    "sns.despine"
   ]
  },
  {
   "cell_type": "code",
   "execution_count": 15,
   "id": "92943785",
   "metadata": {},
   "outputs": [
    {
     "data": {
      "text/plain": [
       "<function seaborn.utils.despine(fig=None, ax=None, top=True, right=True, left=False, bottom=False, offset=None, trim=False)>"
      ]
     },
     "execution_count": 15,
     "metadata": {},
     "output_type": "execute_result"
    },
    {
     "data": {
      "image/png": "[encoded data removed]",
      "text/plain": [
       "<Figure size 432x288 with 1 Axes>"
      ]
     },
     "metadata": {
      "needs_background": "light"
     },
     "output_type": "display_data"
    }
   ],
   "source": [
    "## PRECIO SEGÚN MEJOR AREA D ELA CIUDAD\n",
    "plt.scatter(df.prefarea, df.price)\n",
    "plt.title(\"PRECIO VS Mejor Area (0= no mejor area)\", fontsize =15)\n",
    "plt.xlabel(\"Mejor area de la ciudad\", fontsize =15 )\n",
    "plt.ylabel(\"Precio\", fontsize =15 )\n",
    "plt.xticks(fontsize =10 )\n",
    "plt.yticks(fontsize =10 )\n",
    "sns.despine\n"
   ]
  },
  {
   "cell_type": "code",
   "execution_count": 16,
   "id": "f1f1d091",
   "metadata": {},
   "outputs": [
    {
     "data": {
      "text/plain": [
       "<function seaborn.utils.despine(fig=None, ax=None, top=True, right=True, left=False, bottom=False, offset=None, trim=False)>"
      ]
     },
     "execution_count": 16,
     "metadata": {},
     "output_type": "execute_result"
    },
    {
     "data": {
      "image/png": "[encoded data removed]",
      "text/plain": [
       "<Figure size 432x288 with 1 Axes>"
      ]
     },
     "metadata": {
      "needs_background": "light"
     },
     "output_type": "display_data"
    }
   ],
   "source": [
    "## PRECIO SEGÚN SOTANO\n",
    "plt.scatter(df.fullbase, df.price)\n",
    "plt.title(\"PRECIO VS SOTANO (0= no SOTANO)\", fontsize =15)\n",
    "plt.xlabel(\"Sotano\", fontsize =15 )\n",
    "plt.ylabel(\"Precio\", fontsize =15 )\n",
    "plt.xticks(fontsize =10 )\n",
    "plt.yticks(fontsize =10 )\n",
    "sns.despine\n"
   ]
  },
  {
   "cell_type": "code",
   "execution_count": 17,
   "id": "f6daaf6d",
   "metadata": {},
   "outputs": [
    {
     "data": {
      "text/plain": [
       "<function seaborn.utils.despine(fig=None, ax=None, top=True, right=True, left=False, bottom=False, offset=None, trim=False)>"
      ]
     },
     "execution_count": 17,
     "metadata": {},
     "output_type": "execute_result"
    },
    {
     "data": {
      "image/png": "[encoded data removed]",
      "text/plain": [
       "<Figure size 432x288 with 1 Axes>"
      ]
     },
     "metadata": {
      "needs_background": "light"
     },
     "output_type": "display_data"
    }
   ],
   "source": [
    "\n",
    "## PRECIO SEGÚN CUARTO RECREACION\n",
    "plt.scatter(df.recroom, df.price)\n",
    "plt.title(\"PRECIO VS CUARTO RECREACIÓN (0= no CUARTORECRE)\", fontsize =15)\n",
    "plt.xlabel(\"Recreacion\", fontsize =15 )\n",
    "plt.ylabel(\"Precio\", fontsize =15 )\n",
    "plt.xticks(fontsize =10 )\n",
    "plt.yticks(fontsize =10 )\n",
    "sns.despine\n"
   ]
  },
  {
   "cell_type": "code",
   "execution_count": 18,
   "id": "b2bb5fba",
   "metadata": {},
   "outputs": [
    {
     "data": {
      "text/plain": [
       "<function seaborn.utils.despine(fig=None, ax=None, top=True, right=True, left=False, bottom=False, offset=None, trim=False)>"
      ]
     },
     "execution_count": 18,
     "metadata": {},
     "output_type": "execute_result"
    },
    {
     "data": {
      "image/png": "[encoded data removed]",
      "text/plain": [
       "<Figure size 432x288 with 1 Axes>"
      ]
     },
     "metadata": {
      "needs_background": "light"
     },
     "output_type": "display_data"
    }
   ],
   "source": [
    "\n",
    "## PRECIO SEGÚN ENTRADAS\n",
    "plt.scatter(df.driveway, df.price)\n",
    "plt.title(\"PRECIO VS ENTRADAS (0= no Entradas)\", fontsize =15)\n",
    "plt.xlabel(\"Entradas\", fontsize =15 )\n",
    "plt.ylabel(\"Precio\", fontsize =15 )\n",
    "plt.xticks(fontsize =10 )\n",
    "plt.yticks(fontsize =10 )\n",
    "sns.despine"
   ]
  },
  {
   "cell_type": "code",
   "execution_count": 36,
   "id": "6219991a",
   "metadata": {},
   "outputs": [],
   "source": [
    "## MODELO TECNICA REGRESION LINEAL PERMITE PREDECIR EL COMPORTAMIENTO DE UNA VARIABLE\n",
    "from sklearn.linear_model import LinearRegression\n",
    "\n",
    "\n",
    "reg = LinearRegression()\n",
    "\n",
    "## SE IMPORTAN DATOS PARA REGRESION LINEAL\n",
    "df1 = pd.read_excel(r\"C:\\Users\\fadg1\\OneDrive\\Escritorio\\Analytics\\PRUEBA TECNICA ANALSTAS DE DATOS\\Datos- Modelación/Housing.xlsx\", sheet_name='Forecast')"
   ]
  },
  {
   "cell_type": "code",
   "execution_count": 22,
   "id": "d5f771f4",
   "metadata": {},
   "outputs": [],
   "source": [
    "## SE DEFINEN VARIABLES PRECIO Y DATOS SIN PRECIO\n",
    "labels = df[\"price\"]\n",
    "train1 =  df.drop([\"price\"], axis=1) ## SE ELIMINA DE DATOS PRECIO"
   ]
  },
  {
   "cell_type": "code",
   "execution_count": 23,
   "id": "28b2e5cb",
   "metadata": {},
   "outputs": [],
   "source": [
    "\n",
    "from sklearn.model_selection import train_test_split"
   ]
  },
  {
   "cell_type": "code",
   "execution_count": 24,
   "id": "114c639d",
   "metadata": {},
   "outputs": [],
   "source": [
    "## SE CONSTRUYE MODELO DATOS DE ESTRENAMIENTO Y PRUEBA\n",
    "x_train , x_test , y_train , y_test = train_test_split(train1 , labels , test_size = 0.33, random_state =42)"
   ]
  },
  {
   "cell_type": "code",
   "execution_count": 25,
   "id": "50478331",
   "metadata": {},
   "outputs": [
    {
     "data": {
      "text/html": [
       "<style>#sk-container-id-1 {color: black;background-color: white;}#sk-container-id-1 pre{padding: 0;}#sk-container-id-1 div.sk-toggleable {background-color: white;}#sk-container-id-1 label.sk-toggleable__label {cursor: pointer;display: block;width: 100%;margin-bottom: 0;padding: 0.3em;box-sizing: border-box;text-align: center;}#sk-container-id-1 label.sk-toggleable__label-arrow:before {content: \"▸\";float: left;margin-right: 0.25em;color: #696969;}#sk-container-id-1 label.sk-toggleable__label-arrow:hover:before {color: black;}#sk-container-id-1 div.sk-estimator:hover label.sk-toggleable__label-arrow:before {color: black;}#sk-container-id-1 div.sk-toggleable__content {max-height: 0;max-width: 0;overflow: hidden;text-align: left;background-color: #f0f8ff;}#sk-container-id-1 div.sk-toggleable__content pre {margin: 0.2em;color: black;border-radius: 0.25em;background-color: #f0f8ff;}#sk-container-id-1 input.sk-toggleable__control:checked~div.sk-toggleable__content {max-height: 200px;max-width: 100%;overflow: auto;}#sk-container-id-1 input.sk-toggleable__control:checked~label.sk-toggleable__label-arrow:before {content: \"▾\";}#sk-container-id-1 div.sk-estimator input.sk-toggleable__control:checked~label.sk-toggleable__label {background-color: #d4ebff;}#sk-container-id-1 div.sk-label input.sk-toggleable__control:checked~label.sk-toggleable__label {background-color: #d4ebff;}#sk-container-id-1 input.sk-hidden--visually {border: 0;clip: rect(1px 1px 1px 1px);clip: rect(1px, 1px, 1px, 1px);height: 1px;margin: -1px;overflow: hidden;padding: 0;position: absolute;width: 1px;}#sk-container-id-1 div.sk-estimator {font-family: monospace;background-color: #f0f8ff;border: 1px dotted black;border-radius: 0.25em;box-sizing: border-box;margin-bottom: 0.5em;}#sk-container-id-1 div.sk-estimator:hover {background-color: #d4ebff;}#sk-container-id-1 div.sk-parallel-item::after {content: \"\";width: 100%;border-bottom: 1px solid gray;flex-grow: 1;}#sk-container-id-1 div.sk-label:hover label.sk-toggleable__label {background-color: #d4ebff;}#sk-container-id-1 div.sk-serial::before {content: \"\";position: absolute;border-left: 1px solid gray;box-sizing: border-box;top: 0;bottom: 0;left: 50%;z-index: 0;}#sk-container-id-1 div.sk-serial {display: flex;flex-direction: column;align-items: center;background-color: white;padding-right: 0.2em;padding-left: 0.2em;position: relative;}#sk-container-id-1 div.sk-item {position: relative;z-index: 1;}#sk-container-id-1 div.sk-parallel {display: flex;align-items: stretch;justify-content: center;background-color: white;position: relative;}#sk-container-id-1 div.sk-item::before, #sk-container-id-1 div.sk-parallel-item::before {content: \"\";position: absolute;border-left: 1px solid gray;box-sizing: border-box;top: 0;bottom: 0;left: 50%;z-index: -1;}#sk-container-id-1 div.sk-parallel-item {display: flex;flex-direction: column;z-index: 1;position: relative;background-color: white;}#sk-container-id-1 div.sk-parallel-item:first-child::after {align-self: flex-end;width: 50%;}#sk-container-id-1 div.sk-parallel-item:last-child::after {align-self: flex-start;width: 50%;}#sk-container-id-1 div.sk-parallel-item:only-child::after {width: 0;}#sk-container-id-1 div.sk-dashed-wrapped {border: 1px dashed gray;margin: 0 0.4em 0.5em 0.4em;box-sizing: border-box;padding-bottom: 0.4em;background-color: white;}#sk-container-id-1 div.sk-label label {font-family: monospace;font-weight: bold;display: inline-block;line-height: 1.2em;}#sk-container-id-1 div.sk-label-container {text-align: center;}#sk-container-id-1 div.sk-container {/* jupyter's `normalize.less` sets `[hidden] { display: none; }` but bootstrap.min.css set `[hidden] { display: none !important; }` so we also need the `!important` here to be able to override the default hidden behavior on the sphinx rendered scikit-learn.org. See: https://github.com/scikit-learn/scikit-learn/issues/21755 */display: inline-block !important;position: relative;}#sk-container-id-1 div.sk-text-repr-fallback {display: none;}</style><div id=\"sk-container-id-1\" class=\"sk-top-container\"><div class=\"sk-text-repr-fallback\"><pre>LinearRegression()</pre><b>In a Jupyter environment, please rerun this cell to show the HTML representation or trust the notebook. <br />On GitHub, the HTML representation is unable to render, please try loading this page with nbviewer.org.</b></div><div class=\"sk-container\" hidden><div class=\"sk-item\"><div class=\"sk-estimator sk-toggleable\"><input class=\"sk-toggleable__control sk-hidden--visually\" id=\"sk-estimator-id-1\" type=\"checkbox\" checked><label for=\"sk-estimator-id-1\" class=\"sk-toggleable__label sk-toggleable__label-arrow\">LinearRegression</label><div class=\"sk-toggleable__content\"><pre>LinearRegression()</pre></div></div></div></div></div>"
      ],
      "text/plain": [
       "LinearRegression()"
      ]
     },
     "execution_count": 25,
     "metadata": {},
     "output_type": "execute_result"
    }
   ],
   "source": [
    "## SE ENTRENA EL MODELO REGRESION LINEAL\n",
    "reg.fit(x_train,y_train)"
   ]
  },
  {
   "cell_type": "code",
   "execution_count": 26,
   "id": "11a5915f",
   "metadata": {},
   "outputs": [
    {
     "data": {
      "text/plain": [
       "0.8177080511556112"
      ]
     },
     "execution_count": 26,
     "metadata": {},
     "output_type": "execute_result"
    }
   ],
   "source": [
    "## SE VERIFICA CALDIAD DEL MODELO\n",
    "reg.score(x_test,y_test)"
   ]
  },
  {
   "cell_type": "code",
   "execution_count": 27,
   "id": "f8a54e41",
   "metadata": {},
   "outputs": [
    {
     "name": "stdout",
     "output_type": "stream",
     "text": [
      "[147934.9280638   87543.89355535 113631.56123695 ...  43749.45961536\n",
      "  73001.34225568 157561.09956391]\n"
     ]
    }
   ],
   "source": [
    "## EVALUACION PARA LAS PREDICCIONES EN TRAIN DATOS\n",
    "training_data_prediction = reg.predict(x_train)\n",
    "print(training_data_prediction)"
   ]
  },
  {
   "cell_type": "code",
   "execution_count": 28,
   "id": "b9c83a0f",
   "metadata": {},
   "outputs": [
    {
     "name": "stdout",
     "output_type": "stream",
     "text": [
      "R2 ERROR CAUDRADO :  0.8166018107318594\n",
      "ERROR MEDIO ABSOLUTO :  14844.216084031894\n"
     ]
    }
   ],
   "source": [
    "## R2 ERROR CAUDRADO\n",
    "from sklearn import metrics\n",
    "\n",
    "valor_1 = metrics.r2_score(y_train, training_data_prediction)\n",
    "\n",
    "## ERROR MEDIO ABSOLUTO\n",
    "\n",
    "valor_2 = metrics.mean_absolute_error(y_train, training_data_prediction)\n",
    "\n",
    "print(\"R2 ERROR CAUDRADO : \", valor_1)\n",
    "print(\"ERROR MEDIO ABSOLUTO : \", valor_2)"
   ]
  },
  {
   "cell_type": "code",
   "execution_count": 29,
   "id": "5840f8d4",
   "metadata": {},
   "outputs": [
    {
     "data": {
      "image/png": "[encoded data removed]",
      "text/plain": [
       "<Figure size 432x288 with 1 Axes>"
      ]
     },
     "metadata": {
      "needs_background": "light"
     },
     "output_type": "display_data"
    }
   ],
   "source": [
    "plt.scatter(y_train, training_data_prediction )\n",
    "plt.xlabel(\"Precios Actuales\", fontsize =15 )\n",
    "plt.ylabel(\"Prediccion de precios\", fontsize =15 )\n",
    "plt.title(\"Precios Actuales vs Prediccion de precios\", fontsize =15)\n",
    "plt.show()"
   ]
  },
  {
   "cell_type": "code",
   "execution_count": 37,
   "id": "a6c87d6f",
   "metadata": {},
   "outputs": [
    {
     "name": "stderr",
     "output_type": "stream",
     "text": [
      "c:\\Users\\fadg1\\AppData\\Local\\Programs\\Python\\Python39\\lib\\site-packages\\sklearn\\ensemble\\_gb.py:294: FutureWarning: The loss 'ls' was deprecated in v1.0 and will be removed in version 1.2. Use 'squared_error' which is equivalent.\n",
      "  warnings.warn(\n"
     ]
    },
    {
     "data": {
      "text/html": [
       "<style>#sk-container-id-3 {color: black;background-color: white;}#sk-container-id-3 pre{padding: 0;}#sk-container-id-3 div.sk-toggleable {background-color: white;}#sk-container-id-3 label.sk-toggleable__label {cursor: pointer;display: block;width: 100%;margin-bottom: 0;padding: 0.3em;box-sizing: border-box;text-align: center;}#sk-container-id-3 label.sk-toggleable__label-arrow:before {content: \"▸\";float: left;margin-right: 0.25em;color: #696969;}#sk-container-id-3 label.sk-toggleable__label-arrow:hover:before {color: black;}#sk-container-id-3 div.sk-estimator:hover label.sk-toggleable__label-arrow:before {color: black;}#sk-container-id-3 div.sk-toggleable__content {max-height: 0;max-width: 0;overflow: hidden;text-align: left;background-color: #f0f8ff;}#sk-container-id-3 div.sk-toggleable__content pre {margin: 0.2em;color: black;border-radius: 0.25em;background-color: #f0f8ff;}#sk-container-id-3 input.sk-toggleable__control:checked~div.sk-toggleable__content {max-height: 200px;max-width: 100%;overflow: auto;}#sk-container-id-3 input.sk-toggleable__control:checked~label.sk-toggleable__label-arrow:before {content: \"▾\";}#sk-container-id-3 div.sk-estimator input.sk-toggleable__control:checked~label.sk-toggleable__label {background-color: #d4ebff;}#sk-container-id-3 div.sk-label input.sk-toggleable__control:checked~label.sk-toggleable__label {background-color: #d4ebff;}#sk-container-id-3 input.sk-hidden--visually {border: 0;clip: rect(1px 1px 1px 1px);clip: rect(1px, 1px, 1px, 1px);height: 1px;margin: -1px;overflow: hidden;padding: 0;position: absolute;width: 1px;}#sk-container-id-3 div.sk-estimator {font-family: monospace;background-color: #f0f8ff;border: 1px dotted black;border-radius: 0.25em;box-sizing: border-box;margin-bottom: 0.5em;}#sk-container-id-3 div.sk-estimator:hover {background-color: #d4ebff;}#sk-container-id-3 div.sk-parallel-item::after {content: \"\";width: 100%;border-bottom: 1px solid gray;flex-grow: 1;}#sk-container-id-3 div.sk-label:hover label.sk-toggleable__label {background-color: #d4ebff;}#sk-container-id-3 div.sk-serial::before {content: \"\";position: absolute;border-left: 1px solid gray;box-sizing: border-box;top: 0;bottom: 0;left: 50%;z-index: 0;}#sk-container-id-3 div.sk-serial {display: flex;flex-direction: column;align-items: center;background-color: white;padding-right: 0.2em;padding-left: 0.2em;position: relative;}#sk-container-id-3 div.sk-item {position: relative;z-index: 1;}#sk-container-id-3 div.sk-parallel {display: flex;align-items: stretch;justify-content: center;background-color: white;position: relative;}#sk-container-id-3 div.sk-item::before, #sk-container-id-3 div.sk-parallel-item::before {content: \"\";position: absolute;border-left: 1px solid gray;box-sizing: border-box;top: 0;bottom: 0;left: 50%;z-index: -1;}#sk-container-id-3 div.sk-parallel-item {display: flex;flex-direction: column;z-index: 1;position: relative;background-color: white;}#sk-container-id-3 div.sk-parallel-item:first-child::after {align-self: flex-end;width: 50%;}#sk-container-id-3 div.sk-parallel-item:last-child::after {align-self: flex-start;width: 50%;}#sk-container-id-3 div.sk-parallel-item:only-child::after {width: 0;}#sk-container-id-3 div.sk-dashed-wrapped {border: 1px dashed gray;margin: 0 0.4em 0.5em 0.4em;box-sizing: border-box;padding-bottom: 0.4em;background-color: white;}#sk-container-id-3 div.sk-label label {font-family: monospace;font-weight: bold;display: inline-block;line-height: 1.2em;}#sk-container-id-3 div.sk-label-container {text-align: center;}#sk-container-id-3 div.sk-container {/* jupyter's `normalize.less` sets `[hidden] { display: none; }` but bootstrap.min.css set `[hidden] { display: none !important; }` so we also need the `!important` here to be able to override the default hidden behavior on the sphinx rendered scikit-learn.org. See: https://github.com/scikit-learn/scikit-learn/issues/21755 */display: inline-block !important;position: relative;}#sk-container-id-3 div.sk-text-repr-fallback {display: none;}</style><div id=\"sk-container-id-3\" class=\"sk-top-container\"><div class=\"sk-text-repr-fallback\"><pre>GradientBoostingRegressor(loss=&#x27;ls&#x27;, max_depth=5, n_estimators=400)</pre><b>In a Jupyter environment, please rerun this cell to show the HTML representation or trust the notebook. <br />On GitHub, the HTML representation is unable to render, please try loading this page with nbviewer.org.</b></div><div class=\"sk-container\" hidden><div class=\"sk-item\"><div class=\"sk-estimator sk-toggleable\"><input class=\"sk-toggleable__control sk-hidden--visually\" id=\"sk-estimator-id-3\" type=\"checkbox\" checked><label for=\"sk-estimator-id-3\" class=\"sk-toggleable__label sk-toggleable__label-arrow\">GradientBoostingRegressor</label><div class=\"sk-toggleable__content\"><pre>GradientBoostingRegressor(loss=&#x27;ls&#x27;, max_depth=5, n_estimators=400)</pre></div></div></div></div></div>"
      ],
      "text/plain": [
       "GradientBoostingRegressor(loss='ls', max_depth=5, n_estimators=400)"
      ]
     },
     "execution_count": 37,
     "metadata": {},
     "output_type": "execute_result"
    }
   ],
   "source": [
    "## SE CONSTRUYE MODELO TECNICA DE POTENCIACION DEL GRADIENTE GRADIENTE CONJUNTO DE ARBOLES DE DECISION ANALISIS PREDICTIVO\n",
    "from sklearn import ensemble\n",
    "clf = ensemble.GradientBoostingRegressor(n_estimators= 400, max_depth= 5, min_samples_split= 2, \n",
    "learning_rate = 0.1, loss = \"ls\")\n",
    "\n",
    "## SE ENTRENA EL MODELO GRADIENTE\n",
    "clf.fit(x_train, y_train)"
   ]
  },
  {
   "cell_type": "code",
   "execution_count": 32,
   "id": "269a5ec0",
   "metadata": {},
   "outputs": [
    {
     "data": {
      "text/plain": [
       "0.9785330827606665"
      ]
     },
     "execution_count": 32,
     "metadata": {},
     "output_type": "execute_result"
    }
   ],
   "source": [
    "## SE VERIFICA CALDIAD DEL MODELO\n",
    "clf.score(x_test,y_test)"
   ]
  },
  {
   "cell_type": "code",
   "execution_count": 33,
   "id": "084c79b2",
   "metadata": {},
   "outputs": [
    {
     "name": "stdout",
     "output_type": "stream",
     "text": [
      "[158859.61120751  90028.66701684  98204.73626034 ...  35540.7389134\n",
      "  73704.3583087  143987.11191341]\n"
     ]
    }
   ],
   "source": [
    "## EVALUACION PARA LAS PREDICCIONES EN TRAIN DATOS\n",
    "training_data_prediction1 = clf.predict(x_train)\n",
    "print(training_data_prediction1)"
   ]
  },
  {
   "cell_type": "code",
   "execution_count": 34,
   "id": "321f1905",
   "metadata": {},
   "outputs": [
    {
     "name": "stdout",
     "output_type": "stream",
     "text": [
      "R2 ERROR CAUDRADO :  0.9806173185960191\n",
      "ERROR MEDIO ABSOLUTO :  2924.461124676882\n"
     ]
    }
   ],
   "source": [
    "## R2 ERROR CAUDRADO\n",
    "from sklearn import metrics\n",
    "\n",
    "valor_1 = metrics.r2_score(y_train, training_data_prediction1)\n",
    "\n",
    "## ERROR MEDIO ABSOLUTO\n",
    "\n",
    "valor_2 = metrics.mean_absolute_error(y_train, training_data_prediction1)\n",
    "\n",
    "print(\"R2 ERROR CAUDRADO : \", valor_1)\n",
    "print(\"ERROR MEDIO ABSOLUTO : \", valor_2)"
   ]
  },
  {
   "cell_type": "code",
   "execution_count": 35,
   "id": "64a95294",
   "metadata": {},
   "outputs": [
    {
     "data": {
      "image/png": "[encoded data removed]",
      "text/plain": [
       "<Figure size 432x288 with 1 Axes>"
      ]
     },
     "metadata": {
      "needs_background": "light"
     },
     "output_type": "display_data"
    }
   ],
   "source": [
    "plt.scatter(y_train, training_data_prediction1 )\n",
    "plt.xlabel(\"Precios Actuales\", fontsize =15 )\n",
    "plt.ylabel(\"Prediccion de precios\", fontsize =15 )\n",
    "plt.title(\"Precios Actuales vs Prediccion de precios\", fontsize =15)\n",
    "plt.show()"
   ]
  }
 ],
 "metadata": {
  "kernelspec": {
   "display_name": "Python 3.9.7 64-bit",
   "language": "python",
   "name": "python3"
  },
  "language_info": {
   "codemirror_mode": {
    "name": "ipython",
    "version": 3
   },
   "file_extension": ".py",
   "mimetype": "text/x-python",
   "name": "python",
   "nbconvert_exporter": "python",
   "pygments_lexer": "ipython3",
   "version": "3.9.7"
  },
  "vscode": {
   "interpreter": {
    "hash": "cb7e63548c61445a9cb5a5e3f519f4249d1718ac1e9769b7ce101fed9673ff20"
   }
  }
 },
 "nbformat": 4,
 "nbformat_minor": 5
}
